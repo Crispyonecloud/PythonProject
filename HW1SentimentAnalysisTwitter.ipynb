{
 "cells": [
  {
   "cell_type": "markdown",
   "metadata": {},
   "source": [
    "# HW1 –Sentiment Analysis on Twitter "
   ]
  },
  {
   "cell_type": "markdown",
   "metadata": {},
   "source": [
    "###### Follow the instructionsin the file “Twitter HW Setup.pptx”to collect a good sample of tweets about a trending topic. You can find trending topics here.  (Suggestion: at least 500 tweets).Then, perform the following taskin a Jupyter notebook file.For each word, assign a value of +1 for positive sentiment, a value-1 for negative sentiment, or a value of 0 for neutral sentiment.You can easily find a list of “positive” words and a list of “negative” words online. Do you think that the general sentiment is negative or positive? Weakly or strongly?It is up to you to decidehow to measure the sentiment; make sure to briefly explain it in your submission though."
   ]
  },
  {
   "cell_type": "markdown",
   "metadata": {},
   "source": [
    "### Import Data"
   ]
  },
  {
   "cell_type": "code",
   "execution_count": 1,
   "metadata": {},
   "outputs": [],
   "source": [
    "def importdata(filename):\n",
    "    f = open(filename, 'r', encoding='utf8', errors='ignore')\n",
    "    ds = []\n",
    "    for line in f:\n",
    "        line = line.split()\n",
    "        for word in line:\n",
    "            ds.append(word.lower().strip(',!?:;@'))\n",
    "    f.close()\n",
    "    return ds"
   ]
  },
  {
   "cell_type": "code",
   "execution_count": 2,
   "metadata": {},
   "outputs": [],
   "source": [
    "def importdatadic(filename):\n",
    "    f = open(filename, 'r', encoding='utf8', errors='ignore')\n",
    "    ds = {}\n",
    "    for line in f:\n",
    "        line = line.split()\n",
    "        for word in line:\n",
    "            ds[word.lower().strip(',!?:;@')]=None\n",
    "    f.close()\n",
    "    return ds"
   ]
  },
  {
   "cell_type": "markdown",
   "metadata": {},
   "source": [
    "### Count Words Frequentcy"
   ]
  },
  {
   "cell_type": "code",
   "execution_count": 3,
   "metadata": {},
   "outputs": [],
   "source": [
    "def wordfreq(*t):\n",
    "    j = 0\n",
    "    d = {}\n",
    "    for i in [t.count(w) for w in t]:\n",
    "        d[t[j]]=i\n",
    "        j=j+1\n",
    "    d = sorted(d.items(), key=lambda x: x[1],reverse=True)\n",
    "    return d"
   ]
  },
  {
   "cell_type": "markdown",
   "metadata": {},
   "source": [
    "### Run Main Function"
   ]
  },
  {
   "cell_type": "code",
   "execution_count": 10,
   "metadata": {},
   "outputs": [
    {
     "name": "stdout",
     "output_type": "stream",
     "text": [
      "3340\n",
      "1.0157100543131186%\n",
      "[('like', 919), ('marvel', 782), ('good', 605), ('liked', 603), ('protect', 530), ('amazing', 489), ('best', 453), ('enough', 452), ('fans', 344)]\n",
      "[('sinister', 596), ('fucking', 593), ('complex', 530), ('cry', 368), ('parody', 328), ('stark', 280), ('fury', 243), ('shit', 163), ('missed', 137)]\n"
     ]
    }
   ],
   "source": [
    "def main():\n",
    "    # Import Data\n",
    "    txt = importdata('Spider-Man.txt')\n",
    "    negative = importdatadic('negative-words.txt')\n",
    "    positive = importdatadic('positive-words.txt')\n",
    "    scr = 0\n",
    "    w = 0\n",
    "    ptxt = []\n",
    "    ntxt = []\n",
    "    for word in txt:\n",
    "        if word in positive:\n",
    "            scr = scr + 1\n",
    "            ptxt.append(word)\n",
    "        if word in negative:\n",
    "            scr = scr - 1\n",
    "            ntxt.append(word)\n",
    "        w = w + 1\n",
    "    print(scr) \n",
    "    print(str(scr / w *100) + '%')\n",
    "    # List the top 10 words\n",
    "    pd = wordfreq(*ptxt)\n",
    "    nd = wordfreq(*ntxt)\n",
    "    print(pd[0:9])\n",
    "    print(nd[0:9])\n",
    "       \n",
    "if __name__ == \"__main__\": \n",
    "    # calling main function \n",
    "    main()"
   ]
  },
  {
   "cell_type": "markdown",
   "metadata": {},
   "source": [
    "##### The score of Spider-Man is 3340 which indicates that the general sentiment on Twitter is positive. \n",
    "However, there are some concern about the scoring method. \n",
    "Fisrt of all, the most common positive words show directly positive emotions. But on the other side, the most common negative words are more complex and hard to tell the true opinion by single words. For example, 'fucking', 'complex', 'cry' and 'missed' are words that could not reflex the meaning directly.\n",
    "Second, some of the most common positive or negative words, 'marvel', 'sinister', 'stark', might not indicates positive or negative meaning. Instead, they are just the name of the characters or relavent nouns."
   ]
  },
  {
   "cell_type": "code",
   "execution_count": null,
   "metadata": {},
   "outputs": [],
   "source": []
  }
 ],
 "metadata": {
  "kernelspec": {
   "display_name": "Python 3",
   "language": "python",
   "name": "python3"
  },
  "language_info": {
   "codemirror_mode": {
    "name": "ipython",
    "version": 3
   },
   "file_extension": ".py",
   "mimetype": "text/x-python",
   "name": "python",
   "nbconvert_exporter": "python",
   "pygments_lexer": "ipython3",
   "version": "3.6.5"
  }
 },
 "nbformat": 4,
 "nbformat_minor": 2
}
